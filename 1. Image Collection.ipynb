{
 "cells": [
  {
   "cell_type": "markdown",
   "metadata": {},
   "source": [
    "# 1. Import Dependencies"
   ]
  },
  {
   "cell_type": "code",
   "execution_count": 11,
   "metadata": {},
   "outputs": [
    {
     "name": "stdout",
     "output_type": "stream",
     "text": [
      "Requirement already satisfied: opencv-python in c:\\users\\akshi\\anaconda3\\envs\\tf\\lib\\site-packages (4.8.1.78)\n",
      "Requirement already satisfied: numpy>=1.17.0 in c:\\users\\akshi\\anaconda3\\envs\\tf\\lib\\site-packages (from opencv-python) (1.24.4)\n"
     ]
    }
   ],
   "source": [
    "!pip install opencv-python"
   ]
  },
  {
   "cell_type": "code",
   "execution_count": 12,
   "metadata": {},
   "outputs": [],
   "source": [
    "# Import opencv\n",
    "import cv2 \n",
    "\n",
    "# Import uuid\n",
    "import uuid\n",
    "\n",
    "# Import Operating System\n",
    "import os\n",
    "\n",
    "# Import time\n",
    "import time"
   ]
  },
  {
   "cell_type": "markdown",
   "metadata": {},
   "source": [
    "# 2. Define Images to Collect"
   ]
  },
  {
   "cell_type": "code",
   "execution_count": 23,
   "metadata": {},
   "outputs": [],
   "source": [
    "labels = ['thumbsup', 'thumbsdown', 'thankyou', 'love']\n",
    "number_imgs = 5"
   ]
  },
  {
   "cell_type": "markdown",
   "metadata": {},
   "source": [
    "# 3. Setup Folders "
   ]
  },
  {
   "cell_type": "code",
   "execution_count": 14,
   "metadata": {},
   "outputs": [],
   "source": [
    "IMAGES_PATH = os.path.join('Tensorflow', 'workspace', 'images', 'collectedimages')"
   ]
  },
  {
   "cell_type": "code",
   "execution_count": 15,
   "metadata": {},
   "outputs": [],
   "source": [
    "if not os.path.exists(IMAGES_PATH):\n",
    "    if os.name == 'posix':\n",
    "        !mkdir -p {IMAGES_PATH}\n",
    "    if os.name == 'nt':\n",
    "         !mkdir {IMAGES_PATH}\n",
    "for label in labels:\n",
    "    path = os.path.join(IMAGES_PATH, label)\n",
    "    if not os.path.exists(path):\n",
    "        !mkdir {path}"
   ]
  },
  {
   "cell_type": "markdown",
   "metadata": {},
   "source": [
    "# 4. Capture Images"
   ]
  },
  {
   "cell_type": "code",
   "execution_count": 22,
   "metadata": {},
   "outputs": [
    {
     "name": "stdout",
     "output_type": "stream",
     "text": [
      "Collecting images for thankyou\n",
      "Collecting image 0\n",
      "Collecting image 1\n",
      "Collecting image 2\n",
      "Collecting image 3\n",
      "Collecting image 4\n"
     ]
    }
   ],
   "source": [
    "for label in labels:\n",
    "    cap = cv2.VideoCapture(0)\n",
    "    print('Collecting images for {}'.format(label))\n",
    "    time.sleep(5)\n",
    "    for imgnum in range(number_imgs):\n",
    "        print('Collecting image {}'.format(imgnum))\n",
    "        ret, frame = cap.read()\n",
    "        imgname = os.path.join(IMAGES_PATH,label,label+'.'+'{}.jpg'.format(str(uuid.uuid1())))\n",
    "        cv2.imwrite(imgname, frame)\n",
    "        cv2.imshow('frame', frame)\n",
    "        time.sleep(2)\n",
    "\n",
    "        if cv2.waitKey(1) & 0xFF == ord('q'):\n",
    "            break\n",
    "cap.release()\n",
    "cv2.destroyAllWindows()"
   ]
  },
  {
   "cell_type": "markdown",
   "metadata": {},
   "source": [
    "# 5. Image Labelling"
   ]
  },
  {
   "cell_type": "code",
   "execution_count": 12,
   "metadata": {},
   "outputs": [
    {
     "name": "stdout",
     "output_type": "stream",
     "text": [
      "Requirement already satisfied: pyqt5 in c:\\users\\akshi\\anaconda3\\envs\\tf\\lib\\site-packages (5.15.9)\n",
      "Requirement already satisfied: PyQt5-sip<13,>=12.11 in c:\\users\\akshi\\anaconda3\\envs\\tf\\lib\\site-packages (from pyqt5) (12.12.2)\n",
      "Requirement already satisfied: PyQt5-Qt5>=5.15.2 in c:\\users\\akshi\\anaconda3\\envs\\tf\\lib\\site-packages (from pyqt5) (5.15.2)\n"
     ]
    }
   ],
   "source": [
    "!pip install pyqt5"
   ]
  },
  {
   "cell_type": "code",
   "execution_count": 25,
   "metadata": {},
   "outputs": [],
   "source": [
    "LABELIMG_PATH = os.path.join('Tensorflow', 'labelimg')"
   ]
  },
  {
   "cell_type": "code",
   "execution_count": 10,
   "metadata": {},
   "outputs": [
    {
     "name": "stderr",
     "output_type": "stream",
     "text": [
      "Cloning into 'Tensorflow\\labelimg'...\n"
     ]
    }
   ],
   "source": [
    "if not os.path.exists(LABELIMG_PATH):\n",
    "    !mkdir {LABELIMG_PATH}\n",
    "    !git clone https://github.com/tzutalin/labelImg {LABELIMG_PATH}"
   ]
  },
  {
   "cell_type": "code",
   "execution_count": 26,
   "metadata": {},
   "outputs": [],
   "source": [
    "if os.name == 'posix':\n",
    "    !make qt5py3\n",
    "if os.name =='nt':\n",
    "    !cd {LABELIMG_PATH} && pyrcc5 -o libs/resources.py resources.qrc"
   ]
  },
  {
   "cell_type": "code",
   "execution_count": 27,
   "metadata": {},
   "outputs": [
    {
     "name": "stdout",
     "output_type": "stream",
     "text": [
      "Image:E:\\PSG tech\\projects\\TensorFlow Object Detection\\TFSD\\Tensorflow\\workspace\\images\\collectedimages\\love\\love.3a834e6e-69e1-11ee-8526-48e7da43547e.jpg -> Annotation:E:/PSG tech/projects/TensorFlow Object Detection/TFSD/Tensorflow/workspace/images/collectedimages/love\\love.3a834e6e-69e1-11ee-8526-48e7da43547e.xml\n",
      "Image:E:\\PSG tech\\projects\\TensorFlow Object Detection\\TFSD\\Tensorflow\\workspace\\images\\collectedimages\\love\\love.3bba1203-69e1-11ee-922e-48e7da43547e.jpg -> Annotation:E:/PSG tech/projects/TensorFlow Object Detection/TFSD/Tensorflow/workspace/images/collectedimages/love\\love.3bba1203-69e1-11ee-922e-48e7da43547e.xml\n",
      "Image:E:\\PSG tech\\projects\\TensorFlow Object Detection\\TFSD\\Tensorflow\\workspace\\images\\collectedimages\\love\\love.42f298df-697a-11ee-9051-48e7da43547e.jpg -> Annotation:E:/PSG tech/projects/TensorFlow Object Detection/TFSD/Tensorflow/workspace/images/collectedimages/love\\love.42f298df-697a-11ee-9051-48e7da43547e.xml\n",
      "Cancel creation.\n",
      "Image:E:\\PSG tech\\projects\\TensorFlow Object Detection\\TFSD\\Tensorflow\\workspace\\images\\collectedimages\\love\\love.47cb0738-697a-11ee-82b9-48e7da43547e.jpg -> Annotation:E:/PSG tech/projects/TensorFlow Object Detection/TFSD/Tensorflow/workspace/images/collectedimages/love\\love.47cb0738-697a-11ee-82b9-48e7da43547e.xml\n",
      "Image:E:\\PSG tech\\projects\\TensorFlow Object Detection\\TFSD\\Tensorflow\\workspace\\images\\collectedimages\\love\\love.52c1a8b8-69dd-11ee-b009-48e7da43547e.jpg -> Annotation:E:/PSG tech/projects/TensorFlow Object Detection/TFSD/Tensorflow/workspace/images/collectedimages/love\\love.52c1a8b8-69dd-11ee-b009-48e7da43547e.xml\n",
      "Image:E:\\PSG tech\\projects\\TensorFlow Object Detection\\TFSD\\Tensorflow\\workspace\\images\\collectedimages\\love\\love.53f91356-69dd-11ee-afef-48e7da43547e.jpg -> Annotation:E:/PSG tech/projects/TensorFlow Object Detection/TFSD/Tensorflow/workspace/images/collectedimages/love\\love.53f91356-69dd-11ee-afef-48e7da43547e.xml\n",
      "Image:E:\\PSG tech\\projects\\TensorFlow Object Detection\\TFSD\\Tensorflow\\workspace\\images\\collectedimages\\love\\love.54d4a1a9-69d5-11ee-8b90-48e7da43547e.jpg -> Annotation:E:/PSG tech/projects/TensorFlow Object Detection/TFSD/Tensorflow/workspace/images/collectedimages/love\\love.54d4a1a9-69d5-11ee-8b90-48e7da43547e.xml\n",
      "Image:E:\\PSG tech\\projects\\TensorFlow Object Detection\\TFSD\\Tensorflow\\workspace\\images\\collectedimages\\love\\love.394ca37b-69e1-11ee-91a5-48e7da43547e.jpg -> Annotation:E:/PSG tech/projects/TensorFlow Object Detection/TFSD/Tensorflow/workspace/images/collectedimages/love\\love.394ca37b-69e1-11ee-91a5-48e7da43547e.xml\n",
      "Image:E:\\PSG tech\\projects\\TensorFlow Object Detection\\TFSD\\Tensorflow\\workspace\\images\\collectedimages\\love\\love.455ee970-697a-11ee-a391-48e7da43547e.jpg -> Annotation:E:/PSG tech/projects/TensorFlow Object Detection/TFSD/Tensorflow/workspace/images/collectedimages/love\\love.455ee970-697a-11ee-a391-48e7da43547e.xml\n",
      "Image:E:\\PSG tech\\projects\\TensorFlow Object Detection\\TFSD\\Tensorflow\\workspace\\images\\collectedimages\\love\\love.518bdd0a-69dd-11ee-aaed-48e7da43547e.jpg -> Annotation:E:/PSG tech/projects/TensorFlow Object Detection/TFSD/Tensorflow/workspace/images/collectedimages/love\\love.518bdd0a-69dd-11ee-aaed-48e7da43547e.xml\n",
      "Image:E:\\PSG tech\\projects\\TensorFlow Object Detection\\TFSD\\Tensorflow\\workspace\\images\\collectedimages\\love\\love.539dec66-69d5-11ee-bf64-48e7da43547e.jpg -> Annotation:E:/PSG tech/projects/TensorFlow Object Detection/TFSD/Tensorflow/workspace/images/collectedimages/love\\love.539dec66-69d5-11ee-bf64-48e7da43547e.xml\n",
      "Image:E:\\PSG tech\\projects\\TensorFlow Object Detection\\TFSD\\Tensorflow\\workspace\\images\\collectedimages\\love\\love.560b4cc9-69d5-11ee-9bd5-48e7da43547e.jpg -> Annotation:E:/PSG tech/projects/TensorFlow Object Detection/TFSD/Tensorflow/workspace/images/collectedimages/love\\love.560b4cc9-69d5-11ee-9bd5-48e7da43547e.xml\n",
      "Image:E:\\PSG tech\\projects\\TensorFlow Object Detection\\TFSD\\Tensorflow\\workspace\\images\\collectedimages\\love\\love.3814e8d6-69e1-11ee-812d-48e7da43547e.jpg -> Annotation:E:/PSG tech/projects/TensorFlow Object Detection/TFSD/Tensorflow/workspace/images/collectedimages/love\\love.3814e8d6-69e1-11ee-812d-48e7da43547e.xml\n",
      "Image:E:\\PSG tech\\projects\\TensorFlow Object Detection\\TFSD\\Tensorflow\\workspace\\images\\collectedimages\\love\\love.52670bda-69d5-11ee-94a3-48e7da43547e.jpg -> Annotation:E:/PSG tech/projects/TensorFlow Object Detection/TFSD/Tensorflow/workspace/images/collectedimages/love\\love.52670bda-69d5-11ee-94a3-48e7da43547e.xml\n",
      "Image:E:\\PSG tech\\projects\\TensorFlow Object Detection\\TFSD\\Tensorflow\\workspace\\images\\collectedimages\\love\\love.442769aa-697a-11ee-8f3a-48e7da43547e.jpg -> Annotation:E:/PSG tech/projects/TensorFlow Object Detection/TFSD/Tensorflow/workspace/images/collectedimages/love\\love.442769aa-697a-11ee-8f3a-48e7da43547e.xml\n",
      "Image:E:\\PSG tech\\projects\\TensorFlow Object Detection\\TFSD\\Tensorflow\\workspace\\images\\collectedimages\\love\\love.4694027f-697a-11ee-a181-48e7da43547e.jpg -> Annotation:E:/PSG tech/projects/TensorFlow Object Detection/TFSD/Tensorflow/workspace/images/collectedimages/love\\love.4694027f-697a-11ee-a181-48e7da43547e.xml\n",
      "Image:E:\\PSG tech\\projects\\TensorFlow Object Detection\\TFSD\\Tensorflow\\workspace\\images\\collectedimages\\love\\love.5131371e-69d5-11ee-a168-48e7da43547e.jpg -> Annotation:E:/PSG tech/projects/TensorFlow Object Detection/TFSD/Tensorflow/workspace/images/collectedimages/love\\love.5131371e-69d5-11ee-a168-48e7da43547e.xml\n",
      "Image:E:\\PSG tech\\projects\\TensorFlow Object Detection\\TFSD\\Tensorflow\\workspace\\images\\collectedimages\\love\\love.5530847f-69dd-11ee-bc1c-48e7da43547e.jpg -> Annotation:E:/PSG tech/projects/TensorFlow Object Detection/TFSD/Tensorflow/workspace/images/collectedimages/love\\love.5530847f-69dd-11ee-bc1c-48e7da43547e.xml\n",
      "Image:E:\\PSG tech\\projects\\TensorFlow Object Detection\\TFSD\\Tensorflow\\workspace\\images\\collectedimages\\thankyou\\thankyou.2cd2651f-69e1-11ee-8a10-48e7da43547e.jpg -> Annotation:E:/PSG tech/projects/TensorFlow Object Detection/TFSD/Tensorflow/workspace/images/collectedimages/thankyou\\thankyou.2cd2651f-69e1-11ee-8a10-48e7da43547e.xml\n",
      "Image:E:\\PSG tech\\projects\\TensorFlow Object Detection\\TFSD\\Tensorflow\\workspace\\images\\collectedimages\\thankyou\\thankyou.2e06c4a9-69e1-11ee-90a4-48e7da43547e.jpg -> Annotation:E:/PSG tech/projects/TensorFlow Object Detection/TFSD/Tensorflow/workspace/images/collectedimages/thankyou\\thankyou.2e06c4a9-69e1-11ee-90a4-48e7da43547e.xml\n",
      "Image:E:\\PSG tech\\projects\\TensorFlow Object Detection\\TFSD\\Tensorflow\\workspace\\images\\collectedimages\\thankyou\\thankyou.3b5f6c2f-697a-11ee-b4a2-48e7da43547e.jpg -> Annotation:E:/PSG tech/projects/TensorFlow Object Detection/TFSD/Tensorflow/workspace/images/collectedimages/thankyou\\thankyou.3b5f6c2f-697a-11ee-b4a2-48e7da43547e.xml\n",
      "Image:E:\\PSG tech\\projects\\TensorFlow Object Detection\\TFSD\\Tensorflow\\workspace\\images\\collectedimages\\thankyou\\thankyou.3c92f3e1-697a-11ee-b6ec-48e7da43547e.jpg -> Annotation:E:/PSG tech/projects/TensorFlow Object Detection/TFSD/Tensorflow/workspace/images/collectedimages/thankyou\\thankyou.3c92f3e1-697a-11ee-b6ec-48e7da43547e.xml\n",
      "Image:E:\\PSG tech\\projects\\TensorFlow Object Detection\\TFSD\\Tensorflow\\workspace\\images\\collectedimages\\thankyou\\thankyou.3dcab053-697a-11ee-846e-48e7da43547e.jpg -> Annotation:E:/PSG tech/projects/TensorFlow Object Detection/TFSD/Tensorflow/workspace/images/collectedimages/thankyou\\thankyou.3dcab053-697a-11ee-846e-48e7da43547e.xml\n",
      "Image:E:\\PSG tech\\projects\\TensorFlow Object Detection\\TFSD\\Tensorflow\\workspace\\images\\collectedimages\\thankyou\\thankyou.4a638c3b-69d5-11ee-9fdd-48e7da43547e.jpg -> Annotation:E:/PSG tech/projects/TensorFlow Object Detection/TFSD/Tensorflow/workspace/images/collectedimages/thankyou\\thankyou.4a638c3b-69d5-11ee-9fdd-48e7da43547e.xml\n",
      "Image:E:\\PSG tech\\projects\\TensorFlow Object Detection\\TFSD\\Tensorflow\\workspace\\images\\collectedimages\\thankyou\\thankyou.4b9a550d-69d5-11ee-b056-48e7da43547e.jpg -> Annotation:E:/PSG tech/projects/TensorFlow Object Detection/TFSD/Tensorflow/workspace/images/collectedimages/thankyou\\thankyou.4b9a550d-69d5-11ee-b056-48e7da43547e.xml\n",
      "Image:E:\\PSG tech\\projects\\TensorFlow Object Detection\\TFSD\\Tensorflow\\workspace\\images\\collectedimages\\thankyou\\thankyou.4b21215a-69dd-11ee-b17c-48e7da43547e.jpg -> Annotation:E:/PSG tech/projects/TensorFlow Object Detection/TFSD/Tensorflow/workspace/images/collectedimages/thankyou\\thankyou.4b21215a-69dd-11ee-b17c-48e7da43547e.xml\n",
      "Image:E:\\PSG tech\\projects\\TensorFlow Object Detection\\TFSD\\Tensorflow\\workspace\\images\\collectedimages\\thankyou\\thankyou.4c58364f-69dd-11ee-b643-48e7da43547e.jpg -> Annotation:E:/PSG tech/projects/TensorFlow Object Detection/TFSD/Tensorflow/workspace/images/collectedimages/thankyou\\thankyou.4c58364f-69dd-11ee-b643-48e7da43547e.xml\n",
      "Image:E:\\PSG tech\\projects\\TensorFlow Object Detection\\TFSD\\Tensorflow\\workspace\\images\\collectedimages\\thankyou\\thankyou.31aa175c-69e1-11ee-88a2-48e7da43547e.jpg -> Annotation:E:/PSG tech/projects/TensorFlow Object Detection/TFSD/Tensorflow/workspace/images/collectedimages/thankyou\\thankyou.31aa175c-69e1-11ee-88a2-48e7da43547e.xml\n",
      "Image:E:\\PSG tech\\projects\\TensorFlow Object Detection\\TFSD\\Tensorflow\\workspace\\images\\collectedimages\\thankyou\\thankyou.38f20512-697a-11ee-809a-48e7da43547e.jpg -> Annotation:E:/PSG tech/projects/TensorFlow Object Detection/TFSD/Tensorflow/workspace/images/collectedimages/thankyou\\thankyou.38f20512-697a-11ee-809a-48e7da43547e.xml\n",
      "Image:E:\\PSG tech\\projects\\TensorFlow Object Detection\\TFSD\\Tensorflow\\workspace\\images\\collectedimages\\thankyou\\thankyou.46c4bfa5-69d5-11ee-9e72-48e7da43547e.jpg -> Annotation:E:/PSG tech/projects/TensorFlow Object Detection/TFSD/Tensorflow/workspace/images/collectedimages/thankyou\\thankyou.46c4bfa5-69d5-11ee-9e72-48e7da43547e.xml\n",
      "Image:E:\\PSG tech\\projects\\TensorFlow Object Detection\\TFSD\\Tensorflow\\workspace\\images\\collectedimages\\thankyou\\thankyou.47fa806a-69d5-11ee-8c49-48e7da43547e.jpg -> Annotation:E:/PSG tech/projects/TensorFlow Object Detection/TFSD/Tensorflow/workspace/images/collectedimages/thankyou\\thankyou.47fa806a-69d5-11ee-8c49-48e7da43547e.xml\n",
      "Image:E:\\PSG tech\\projects\\TensorFlow Object Detection\\TFSD\\Tensorflow\\workspace\\images\\collectedimages\\thankyou\\thankyou.48b1d99f-69dd-11ee-bd26-48e7da43547e.jpg -> Annotation:E:/PSG tech/projects/TensorFlow Object Detection/TFSD/Tensorflow/workspace/images/collectedimages/thankyou\\thankyou.48b1d99f-69dd-11ee-bd26-48e7da43547e.xml\n",
      "Image:E:\\PSG tech\\projects\\TensorFlow Object Detection\\TFSD\\Tensorflow\\workspace\\images\\collectedimages\\thankyou\\thankyou.49e9d1cf-69dd-11ee-8351-48e7da43547e.jpg -> Annotation:E:/PSG tech/projects/TensorFlow Object Detection/TFSD/Tensorflow/workspace/images/collectedimages/thankyou\\thankyou.49e9d1cf-69dd-11ee-8351-48e7da43547e.xml\n",
      "Image:E:\\PSG tech\\projects\\TensorFlow Object Detection\\TFSD\\Tensorflow\\workspace\\images\\collectedimages\\thankyou\\thankyou.80df0f25-69e1-11ee-9bb2-48e7da43547e.jpg -> Annotation:E:/PSG tech/projects/TensorFlow Object Detection/TFSD/Tensorflow/workspace/images/collectedimages/thankyou\\thankyou.80df0f25-69e1-11ee-9bb2-48e7da43547e.xml\n",
      "Image:E:\\PSG tech\\projects\\TensorFlow Object Detection\\TFSD\\Tensorflow\\workspace\\images\\collectedimages\\thankyou\\thankyou.85b91292-69e1-11ee-bb4d-48e7da43547e.jpg -> Annotation:E:/PSG tech/projects/TensorFlow Object Detection/TFSD/Tensorflow/workspace/images/collectedimages/thankyou\\thankyou.85b91292-69e1-11ee-bb4d-48e7da43547e.xml\n",
      "Image:E:\\PSG tech\\projects\\TensorFlow Object Detection\\TFSD\\Tensorflow\\workspace\\images\\collectedimages\\thankyou\\thankyou.477d207c-69dd-11ee-9c70-48e7da43547e.jpg -> Annotation:E:/PSG tech/projects/TensorFlow Object Detection/TFSD/Tensorflow/workspace/images/collectedimages/thankyou\\thankyou.477d207c-69dd-11ee-9c70-48e7da43547e.xml\n",
      "Image:E:\\PSG tech\\projects\\TensorFlow Object Detection\\TFSD\\Tensorflow\\workspace\\images\\collectedimages\\thankyou\\thankyou.492fdb0d-69d5-11ee-a54a-48e7da43547e.jpg -> Annotation:E:/PSG tech/projects/TensorFlow Object Detection/TFSD/Tensorflow/workspace/images/collectedimages/thankyou\\thankyou.492fdb0d-69d5-11ee-a54a-48e7da43547e.xml\n",
      "Image:E:\\PSG tech\\projects\\TensorFlow Object Detection\\TFSD\\Tensorflow\\workspace\\images\\collectedimages\\thankyou\\thankyou.834ad211-69e1-11ee-a9f5-48e7da43547e.jpg -> Annotation:E:/PSG tech/projects/TensorFlow Object Detection/TFSD/Tensorflow/workspace/images/collectedimages/thankyou\\thankyou.834ad211-69e1-11ee-a9f5-48e7da43547e.xml\n",
      "Image:E:\\PSG tech\\projects\\TensorFlow Object Detection\\TFSD\\Tensorflow\\workspace\\images\\collectedimages\\thankyou\\thankyou.84829d18-69e1-11ee-8004-48e7da43547e.jpg -> Annotation:E:/PSG tech/projects/TensorFlow Object Detection/TFSD/Tensorflow/workspace/images/collectedimages/thankyou\\thankyou.84829d18-69e1-11ee-8004-48e7da43547e.xml\n",
      "Image:E:\\PSG tech\\projects\\TensorFlow Object Detection\\TFSD\\Tensorflow\\workspace\\images\\collectedimages\\thankyou\\thankyou.3074411c-69e1-11ee-af44-48e7da43547e.jpg -> Annotation:E:/PSG tech/projects/TensorFlow Object Detection/TFSD/Tensorflow/workspace/images/collectedimages/thankyou\\thankyou.3074411c-69e1-11ee-af44-48e7da43547e.xml\n",
      "Image:E:\\PSG tech\\projects\\TensorFlow Object Detection\\TFSD\\Tensorflow\\workspace\\images\\collectedimages\\thankyou\\thankyou.8214252a-69e1-11ee-8870-48e7da43547e.jpg -> Annotation:E:/PSG tech/projects/TensorFlow Object Detection/TFSD/Tensorflow/workspace/images/collectedimages/thankyou\\thankyou.8214252a-69e1-11ee-8870-48e7da43547e.xml\n",
      "Image:E:\\PSG tech\\projects\\TensorFlow Object Detection\\TFSD\\Tensorflow\\workspace\\images\\collectedimages\\thumbsdown\\thumbsdown.2ef3dd49-697a-11ee-bae8-48e7da43547e.jpg -> Annotation:E:/PSG tech/projects/TensorFlow Object Detection/TFSD/Tensorflow/workspace/images/collectedimages/thumbsdown\\thumbsdown.2ef3dd49-697a-11ee-bae8-48e7da43547e.xml\n",
      "Image:E:\\PSG tech\\projects\\TensorFlow Object Detection\\TFSD\\Tensorflow\\workspace\\images\\collectedimages\\thumbsdown\\thumbsdown.3d7ed182-69d5-11ee-a45c-48e7da43547e.jpg -> Annotation:E:/PSG tech/projects/TensorFlow Object Detection/TFSD/Tensorflow/workspace/images/collectedimages/thumbsdown\\thumbsdown.3d7ed182-69d5-11ee-a45c-48e7da43547e.xml\n",
      "Image:E:\\PSG tech\\projects\\TensorFlow Object Detection\\TFSD\\Tensorflow\\workspace\\images\\collectedimages\\thumbsdown\\thumbsdown.3d741016-69dd-11ee-87e6-48e7da43547e.jpg -> Annotation:E:/PSG tech/projects/TensorFlow Object Detection/TFSD/Tensorflow/workspace/images/collectedimages/thumbsdown\\thumbsdown.3d741016-69dd-11ee-87e6-48e7da43547e.xml\n",
      "Image:E:\\PSG tech\\projects\\TensorFlow Object Detection\\TFSD\\Tensorflow\\workspace\\images\\collectedimages\\thumbsdown\\thumbsdown.3eb2e2d9-69d5-11ee-9318-48e7da43547e.jpg -> Annotation:E:/PSG tech/projects/TensorFlow Object Detection/TFSD/Tensorflow/workspace/images/collectedimages/thumbsdown\\thumbsdown.3eb2e2d9-69d5-11ee-9318-48e7da43547e.xml\n",
      "Image:E:\\PSG tech\\projects\\TensorFlow Object Detection\\TFSD\\Tensorflow\\workspace\\images\\collectedimages\\thumbsdown\\thumbsdown.3fdf9820-69dd-11ee-9c86-48e7da43547e.jpg -> Annotation:E:/PSG tech/projects/TensorFlow Object Detection/TFSD/Tensorflow/workspace/images/collectedimages/thumbsdown\\thumbsdown.3fdf9820-69dd-11ee-9c86-48e7da43547e.xml\n",
      "Image:E:\\PSG tech\\projects\\TensorFlow Object Detection\\TFSD\\Tensorflow\\workspace\\images\\collectedimages\\thumbsdown\\thumbsdown.3fe83617-69d5-11ee-8925-48e7da43547e.jpg -> Annotation:E:/PSG tech/projects/TensorFlow Object Detection/TFSD/Tensorflow/workspace/images/collectedimages/thumbsdown\\thumbsdown.3fe83617-69d5-11ee-8925-48e7da43547e.xml\n",
      "Image:E:\\PSG tech\\projects\\TensorFlow Object Detection\\TFSD\\Tensorflow\\workspace\\images\\collectedimages\\thumbsdown\\thumbsdown.22c3486d-69e1-11ee-bd86-48e7da43547e.jpg -> Annotation:E:/PSG tech/projects/TensorFlow Object Detection/TFSD/Tensorflow/workspace/images/collectedimages/thumbsdown\\thumbsdown.22c3486d-69e1-11ee-bd86-48e7da43547e.xml\n",
      "Image:E:\\PSG tech\\projects\\TensorFlow Object Detection\\TFSD\\Tensorflow\\workspace\\images\\collectedimages\\thumbsdown\\thumbsdown.33cc5c98-697a-11ee-b1fe-48e7da43547e.jpg -> Annotation:E:/PSG tech/projects/TensorFlow Object Detection/TFSD/Tensorflow/workspace/images/collectedimages/thumbsdown\\thumbsdown.33cc5c98-697a-11ee-b1fe-48e7da43547e.xml\n",
      "Image:E:\\PSG tech\\projects\\TensorFlow Object Detection\\TFSD\\Tensorflow\\workspace\\images\\collectedimages\\thumbsdown\\thumbsdown.411eee9e-69d5-11ee-b021-48e7da43547e.jpg -> Annotation:E:/PSG tech/projects/TensorFlow Object Detection/TFSD/Tensorflow/workspace/images/collectedimages/thumbsdown\\thumbsdown.411eee9e-69d5-11ee-b021-48e7da43547e.xml\n",
      "Image:E:\\PSG tech\\projects\\TensorFlow Object Detection\\TFSD\\Tensorflow\\workspace\\images\\collectedimages\\thumbsdown\\thumbsdown.424b57ca-69dd-11ee-8be0-48e7da43547e.jpg -> Annotation:E:/PSG tech/projects/TensorFlow Object Detection/TFSD/Tensorflow/workspace/images/collectedimages/thumbsdown\\thumbsdown.424b57ca-69dd-11ee-8be0-48e7da43547e.xml\n",
      "Image:E:\\PSG tech\\projects\\TensorFlow Object Detection\\TFSD\\Tensorflow\\workspace\\images\\collectedimages\\thumbsdown\\thumbsdown.2668fc69-69e1-11ee-abd1-48e7da43547e.jpg -> Annotation:E:/PSG tech/projects/TensorFlow Object Detection/TFSD/Tensorflow/workspace/images/collectedimages/thumbsdown\\thumbsdown.2668fc69-69e1-11ee-abd1-48e7da43547e.xml\n",
      "Image:E:\\PSG tech\\projects\\TensorFlow Object Detection\\TFSD\\Tensorflow\\workspace\\images\\collectedimages\\thumbsdown\\thumbsdown.25314b5c-69e1-11ee-8046-48e7da43547e.jpg -> Annotation:E:/PSG tech/projects/TensorFlow Object Detection/TFSD/Tensorflow/workspace/images/collectedimages/thumbsdown\\thumbsdown.25314b5c-69e1-11ee-8046-48e7da43547e.xml\n",
      "Image:E:\\PSG tech\\projects\\TensorFlow Object Detection\\TFSD\\Tensorflow\\workspace\\images\\collectedimages\\thumbsdown\\thumbsdown.30288a71-697a-11ee-b6cd-48e7da43547e.jpg -> Annotation:E:/PSG tech/projects/TensorFlow Object Detection/TFSD/Tensorflow/workspace/images/collectedimages/thumbsdown\\thumbsdown.30288a71-697a-11ee-b6cd-48e7da43547e.xml\n",
      "Image:E:\\PSG tech\\projects\\TensorFlow Object Detection\\TFSD\\Tensorflow\\workspace\\images\\collectedimages\\thumbsdown\\thumbsdown.31606f60-697a-11ee-a439-48e7da43547e.jpg -> Annotation:E:/PSG tech/projects/TensorFlow Object Detection/TFSD/Tensorflow/workspace/images/collectedimages/thumbsdown\\thumbsdown.31606f60-697a-11ee-a439-48e7da43547e.xml\n",
      "Image:E:\\PSG tech\\projects\\TensorFlow Object Detection\\TFSD\\Tensorflow\\workspace\\images\\collectedimages\\thumbsdown\\thumbsdown.32960d61-697a-11ee-b4ba-48e7da43547e.jpg -> Annotation:E:/PSG tech/projects/TensorFlow Object Detection/TFSD/Tensorflow/workspace/images/collectedimages/thumbsdown\\thumbsdown.32960d61-697a-11ee-b4ba-48e7da43547e.xml\n",
      "Image:E:\\PSG tech\\projects\\TensorFlow Object Detection\\TFSD\\Tensorflow\\workspace\\images\\collectedimages\\thumbsdown\\thumbsdown.4115234e-69dd-11ee-8821-48e7da43547e.jpg -> Annotation:E:/PSG tech/projects/TensorFlow Object Detection/TFSD/Tensorflow/workspace/images/collectedimages/thumbsdown\\thumbsdown.4115234e-69dd-11ee-8821-48e7da43547e.xml\n",
      "Image:E:\\PSG tech\\projects\\TensorFlow Object Detection\\TFSD\\Tensorflow\\workspace\\images\\collectedimages\\thumbsdown\\thumbsdown.3ea9d08f-69dd-11ee-9801-48e7da43547e.jpg -> Annotation:E:/PSG tech/projects/TensorFlow Object Detection/TFSD/Tensorflow/workspace/images/collectedimages/thumbsdown\\thumbsdown.3ea9d08f-69dd-11ee-9801-48e7da43547e.xml\n",
      "Image:E:\\PSG tech\\projects\\TensorFlow Object Detection\\TFSD\\Tensorflow\\workspace\\images\\collectedimages\\thankyou\\thankyou.3a27b883-697a-11ee-ab77-48e7da43547e.jpg -> Annotation:E:/PSG tech/projects/TensorFlow Object Detection/TFSD/Tensorflow/workspace/images/collectedimages/thankyou\\thankyou.3a27b883-697a-11ee-ab77-48e7da43547e.xml\n",
      "Image:E:\\PSG tech\\projects\\TensorFlow Object Detection\\TFSD\\Tensorflow\\workspace\\images\\collectedimages\\thumbsup\\thumbsup.1b25f426-69e1-11ee-8da7-48e7da43547e.jpg -> Annotation:E:/PSG tech/projects/TensorFlow Object Detection/TFSD/Tensorflow/workspace/images/collectedimages/thumbsup\\thumbsup.1b25f426-69e1-11ee-8da7-48e7da43547e.xml\n",
      "Image:E:\\PSG tech\\projects\\TensorFlow Object Detection\\TFSD\\Tensorflow\\workspace\\images\\collectedimages\\thumbsup\\thumbsup.1c5d618b-69e1-11ee-a944-48e7da43547e.jpg -> Annotation:E:/PSG tech/projects/TensorFlow Object Detection/TFSD/Tensorflow/workspace/images/collectedimages/thumbsup\\thumbsup.1c5d618b-69e1-11ee-a944-48e7da43547e.xml\n",
      "Image:E:\\PSG tech\\projects\\TensorFlow Object Detection\\TFSD\\Tensorflow\\workspace\\images\\collectedimages\\thumbsup\\thumbsup.1d95046b-69e1-11ee-aa91-48e7da43547e.jpg -> Annotation:E:/PSG tech/projects/TensorFlow Object Detection/TFSD/Tensorflow/workspace/images/collectedimages/thumbsup\\thumbsup.1d95046b-69e1-11ee-aa91-48e7da43547e.xml\n",
      "Image:E:\\PSG tech\\projects\\TensorFlow Object Detection\\TFSD\\Tensorflow\\workspace\\images\\collectedimages\\thumbsup\\thumbsup.18b9100c-69e1-11ee-8470-48e7da43547e.jpg -> Annotation:E:/PSG tech/projects/TensorFlow Object Detection/TFSD/Tensorflow/workspace/images/collectedimages/thumbsup\\thumbsup.18b9100c-69e1-11ee-8470-48e7da43547e.xml\n",
      "Image:E:\\PSG tech\\projects\\TensorFlow Object Detection\\TFSD\\Tensorflow\\workspace\\images\\collectedimages\\thumbsup\\thumbsup.19ef8e3b-69e1-11ee-88db-48e7da43547e.jpg -> Annotation:E:/PSG tech/projects/TensorFlow Object Detection/TFSD/Tensorflow/workspace/images/collectedimages/thumbsup\\thumbsup.19ef8e3b-69e1-11ee-88db-48e7da43547e.xml\n",
      "Image:E:\\PSG tech\\projects\\TensorFlow Object Detection\\TFSD\\Tensorflow\\workspace\\images\\collectedimages\\thumbsup\\thumbsup.24f3ebe9-697a-11ee-a089-48e7da43547e.jpg -> Annotation:E:/PSG tech/projects/TensorFlow Object Detection/TFSD/Tensorflow/workspace/images/collectedimages/thumbsup\\thumbsup.24f3ebe9-697a-11ee-a089-48e7da43547e.xml\n",
      "Image:E:\\PSG tech\\projects\\TensorFlow Object Detection\\TFSD\\Tensorflow\\workspace\\images\\collectedimages\\thumbsup\\thumbsup.29cdbd3c-697a-11ee-b625-48e7da43547e.jpg -> Annotation:E:/PSG tech/projects/TensorFlow Object Detection/TFSD/Tensorflow/workspace/images/collectedimages/thumbsup\\thumbsup.29cdbd3c-697a-11ee-b625-48e7da43547e.xml\n",
      "Image:E:\\PSG tech\\projects\\TensorFlow Object Detection\\TFSD\\Tensorflow\\workspace\\images\\collectedimages\\thumbsup\\thumbsup.31d8afae-69d5-11ee-b0b1-48e7da43547e.jpg -> Annotation:E:/PSG tech/projects/TensorFlow Object Detection/TFSD/Tensorflow/workspace/images/collectedimages/thumbsup\\thumbsup.31d8afae-69d5-11ee-b0b1-48e7da43547e.xml\n",
      "Image:E:\\PSG tech\\projects\\TensorFlow Object Detection\\TFSD\\Tensorflow\\workspace\\images\\collectedimages\\thumbsup\\thumbsup.34a0587b-69dd-11ee-bec0-48e7da43547e.jpg -> Annotation:E:/PSG tech/projects/TensorFlow Object Detection/TFSD/Tensorflow/workspace/images/collectedimages/thumbsup\\thumbsup.34a0587b-69dd-11ee-bec0-48e7da43547e.xml\n",
      "Image:E:\\PSG tech\\projects\\TensorFlow Object Detection\\TFSD\\Tensorflow\\workspace\\images\\collectedimages\\thumbsup\\thumbsup.35d7626c-69dd-11ee-913d-48e7da43547e.jpg -> Annotation:E:/PSG tech/projects/TensorFlow Object Detection/TFSD/Tensorflow/workspace/images/collectedimages/thumbsup\\thumbsup.35d7626c-69dd-11ee-913d-48e7da43547e.xml\n",
      "Image:E:\\PSG tech\\projects\\TensorFlow Object Detection\\TFSD\\Tensorflow\\workspace\\images\\collectedimages\\thumbsup\\thumbsup.36b30725-69d5-11ee-ab25-48e7da43547e.jpg -> Annotation:E:/PSG tech/projects/TensorFlow Object Detection/TFSD/Tensorflow/workspace/images/collectedimages/thumbsup\\thumbsup.36b30725-69d5-11ee-ab25-48e7da43547e.xml\n",
      "Image:E:\\PSG tech\\projects\\TensorFlow Object Detection\\TFSD\\Tensorflow\\workspace\\images\\collectedimages\\thumbsup\\thumbsup.262a4ea3-697a-11ee-a147-48e7da43547e.jpg -> Annotation:E:/PSG tech/projects/TensorFlow Object Detection/TFSD/Tensorflow/workspace/images/collectedimages/thumbsup\\thumbsup.262a4ea3-697a-11ee-a147-48e7da43547e.xml\n",
      "Image:E:\\PSG tech\\projects\\TensorFlow Object Detection\\TFSD\\Tensorflow\\workspace\\images\\collectedimages\\thumbsup\\thumbsup.357b7984-69d5-11ee-9d77-48e7da43547e.jpg -> Annotation:E:/PSG tech/projects/TensorFlow Object Detection/TFSD/Tensorflow/workspace/images/collectedimages/thumbsup\\thumbsup.357b7984-69d5-11ee-9d77-48e7da43547e.xml\n",
      "Image:E:\\PSG tech\\projects\\TensorFlow Object Detection\\TFSD\\Tensorflow\\workspace\\images\\collectedimages\\thumbsup\\thumbsup.370da849-69dd-11ee-bdf5-48e7da43547e.jpg -> Annotation:E:/PSG tech/projects/TensorFlow Object Detection/TFSD/Tensorflow/workspace/images/collectedimages/thumbsup\\thumbsup.370da849-69dd-11ee-bdf5-48e7da43547e.xml\n",
      "Image:E:\\PSG tech\\projects\\TensorFlow Object Detection\\TFSD\\Tensorflow\\workspace\\images\\collectedimages\\thumbsup\\thumbsup.3843d496-69dd-11ee-a4d6-48e7da43547e.jpg -> Annotation:E:/PSG tech/projects/TensorFlow Object Detection/TFSD/Tensorflow/workspace/images/collectedimages/thumbsup\\thumbsup.3843d496-69dd-11ee-a4d6-48e7da43547e.xml\n",
      "Image:E:\\PSG tech\\projects\\TensorFlow Object Detection\\TFSD\\Tensorflow\\workspace\\images\\collectedimages\\thumbsup\\thumbsup.28981e4a-697a-11ee-9eef-48e7da43547e.jpg -> Annotation:E:/PSG tech/projects/TensorFlow Object Detection/TFSD/Tensorflow/workspace/images/collectedimages/thumbsup\\thumbsup.28981e4a-697a-11ee-9eef-48e7da43547e.xml\n",
      "Image:E:\\PSG tech\\projects\\TensorFlow Object Detection\\TFSD\\Tensorflow\\workspace\\images\\collectedimages\\thumbsup\\thumbsup.336962b6-69dd-11ee-9be3-48e7da43547e.jpg -> Annotation:E:/PSG tech/projects/TensorFlow Object Detection/TFSD/Tensorflow/workspace/images/collectedimages/thumbsup\\thumbsup.336962b6-69dd-11ee-9be3-48e7da43547e.xml\n",
      "Image:E:\\PSG tech\\projects\\TensorFlow Object Detection\\TFSD\\Tensorflow\\workspace\\images\\collectedimages\\thumbsup\\thumbsup.3311738c-69d5-11ee-9369-48e7da43547e.jpg -> Annotation:E:/PSG tech/projects/TensorFlow Object Detection/TFSD/Tensorflow/workspace/images/collectedimages/thumbsup\\thumbsup.3311738c-69d5-11ee-9369-48e7da43547e.xml\n",
      "Image:E:\\PSG tech\\projects\\TensorFlow Object Detection\\TFSD\\Tensorflow\\workspace\\images\\collectedimages\\thumbsup\\thumbsup.27603575-697a-11ee-b0d0-48e7da43547e.jpg -> Annotation:E:/PSG tech/projects/TensorFlow Object Detection/TFSD/Tensorflow/workspace/images/collectedimages/thumbsup\\thumbsup.27603575-697a-11ee-b0d0-48e7da43547e.xml\n",
      "Image:E:\\PSG tech\\projects\\TensorFlow Object Detection\\TFSD\\Tensorflow\\workspace\\images\\collectedimages\\thumbsup\\thumbsup.34468714-69d5-11ee-97c6-48e7da43547e.jpg -> Annotation:E:/PSG tech/projects/TensorFlow Object Detection/TFSD/Tensorflow/workspace/images/collectedimages/thumbsup\\thumbsup.34468714-69d5-11ee-97c6-48e7da43547e.xml\n"
     ]
    }
   ],
   "source": [
    "!cd {LABELIMG_PATH} && python labelImg.py"
   ]
  },
  {
   "cell_type": "markdown",
   "metadata": {},
   "source": [
    "# 6. Move them into a Training and Testing Partition"
   ]
  },
  {
   "cell_type": "markdown",
   "metadata": {},
   "source": [
    "# OPTIONAL - 7. Compress them for Colab Training"
   ]
  },
  {
   "cell_type": "code",
   "execution_count": 20,
   "metadata": {},
   "outputs": [],
   "source": [
    "TRAIN_PATH = os.path.join('Tensorflow', 'workspace', 'images', 'train')\n",
    "TEST_PATH = os.path.join('Tensorflow', 'workspace', 'images', 'test')\n",
    "ARCHIVE_PATH = os.path.join('Tensorflow', 'workspace', 'images', 'archive.tar.gz')"
   ]
  },
  {
   "cell_type": "code",
   "execution_count": 21,
   "metadata": {},
   "outputs": [],
   "source": [
    "!tar -czf {ARCHIVE_PATH} {TRAIN_PATH} {TEST_PATH}"
   ]
  },
  {
   "cell_type": "code",
   "execution_count": null,
   "metadata": {},
   "outputs": [],
   "source": []
  }
 ],
 "metadata": {
  "kernelspec": {
   "display_name": "tf",
   "language": "python",
   "name": "tf"
  },
  "language_info": {
   "codemirror_mode": {
    "name": "ipython",
    "version": 3
   },
   "file_extension": ".py",
   "mimetype": "text/x-python",
   "name": "python",
   "nbconvert_exporter": "python",
   "pygments_lexer": "ipython3",
   "version": "3.9.18"
  }
 },
 "nbformat": 4,
 "nbformat_minor": 4
}
